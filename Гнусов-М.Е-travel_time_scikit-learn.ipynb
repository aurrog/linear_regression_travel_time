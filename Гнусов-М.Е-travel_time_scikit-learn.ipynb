{
 "cells": [
  {
   "cell_type": "code",
   "execution_count": 15,
   "id": "902b1a56",
   "metadata": {},
   "outputs": [
    {
     "data": {
      "text/html": [
       "<div>\n",
       "<style scoped>\n",
       "    .dataframe tbody tr th:only-of-type {\n",
       "        vertical-align: middle;\n",
       "    }\n",
       "\n",
       "    .dataframe tbody tr th {\n",
       "        vertical-align: top;\n",
       "    }\n",
       "\n",
       "    .dataframe thead th {\n",
       "        text-align: right;\n",
       "    }\n",
       "</style>\n",
       "<table border=\"1\" class=\"dataframe\">\n",
       "  <thead>\n",
       "    <tr style=\"text-align: right;\">\n",
       "      <th></th>\n",
       "      <th>distance</th>\n",
       "      <th>travel_time</th>\n",
       "    </tr>\n",
       "  </thead>\n",
       "  <tbody>\n",
       "    <tr>\n",
       "      <th>0</th>\n",
       "      <td>64.20</td>\n",
       "      <td>1.00</td>\n",
       "    </tr>\n",
       "    <tr>\n",
       "      <th>1</th>\n",
       "      <td>68.72</td>\n",
       "      <td>1.00</td>\n",
       "    </tr>\n",
       "    <tr>\n",
       "      <th>2</th>\n",
       "      <td>85.79</td>\n",
       "      <td>1.32</td>\n",
       "    </tr>\n",
       "    <tr>\n",
       "      <th>3</th>\n",
       "      <td>99.96</td>\n",
       "      <td>1.65</td>\n",
       "    </tr>\n",
       "    <tr>\n",
       "      <th>4</th>\n",
       "      <td>103.55</td>\n",
       "      <td>1.45</td>\n",
       "    </tr>\n",
       "  </tbody>\n",
       "</table>\n",
       "</div>"
      ],
      "text/plain": [
       "   distance  travel_time\n",
       "0     64.20         1.00\n",
       "1     68.72         1.00\n",
       "2     85.79         1.32\n",
       "3     99.96         1.65\n",
       "4    103.55         1.45"
      ]
     },
     "execution_count": 15,
     "metadata": {},
     "output_type": "execute_result"
    }
   ],
   "source": [
    "import pandas as pd\n",
    "import numpy as np\n",
    "import matplotlib.pyplot as plt\n",
    "\n",
    "travel_time_data = pd.read_csv('travel_time_train_data.csv')\n",
    "travel_time_data.head()"
   ]
  },
  {
   "cell_type": "code",
   "execution_count": 13,
   "id": "863ac635",
   "metadata": {},
   "outputs": [
    {
     "data": {
      "text/plain": [
       "24.95"
      ]
     },
     "execution_count": 13,
     "metadata": {},
     "output_type": "execute_result"
    }
   ],
   "source": [
    "max(travel_time_data[' travel_time'])"
   ]
  },
  {
   "cell_type": "code",
   "execution_count": 16,
   "id": "6b99decc",
   "metadata": {},
   "outputs": [
    {
     "data": {
      "image/png": "[encoded data removed]",
      "text/plain": [
       "<Figure size 640x480 with 1 Axes>"
      ]
     },
     "metadata": {},
     "output_type": "display_data"
    }
   ],
   "source": [
    "X = travel_time_data['distance']\n",
    "y = travel_time_data['travel_time']\n",
    "plt.scatter(X, y)\n",
    "# plt.ylim(0, 25)\n",
    "plt.xlabel('distance')\n",
    "plt.ylabel('travel_time')\n",
    "plt.show()"
   ]
  },
  {
   "cell_type": "code",
   "execution_count": 18,
   "id": "615cf75e",
   "metadata": {},
   "outputs": [
    {
     "data": {
      "text/plain": [
       "(106, 2)"
      ]
     },
     "execution_count": 18,
     "metadata": {},
     "output_type": "execute_result"
    }
   ],
   "source": [
    "travel_time_data.shape"
   ]
  },
  {
   "cell_type": "code",
   "execution_count": 19,
   "id": "e3264108",
   "metadata": {},
   "outputs": [],
   "source": [
    "from sklearn.model_selection import train_test_split\n",
    "\n",
    "train_data, test_data = train_test_split(travel_time_data, \n",
    "                                         test_size=0.2,\n",
    "                                         random_state=42)"
   ]
  },
  {
   "cell_type": "code",
   "execution_count": 24,
   "id": "870917d9",
   "metadata": {},
   "outputs": [
    {
     "name": "stdout",
     "output_type": "stream",
     "text": [
      "travel_time_data.shape = (106, 2)\n",
      "X_train.shape = (84,), y_train.shape = (84,)\n",
      "X_test.shape = (22,), y_test.shape = (22,)\n"
     ]
    }
   ],
   "source": [
    "X_train = train_data['distance'].to_numpy()\n",
    "y_train = train_data['travel_time'].to_numpy()\n",
    "\n",
    "X_test = test_data['distance'].to_numpy()\n",
    "y_test = test_data['travel_time'].to_numpy()\n",
    "\n",
    "print(f\"{travel_time_data.shape = }\")\n",
    "print(f\"{X_train.shape = }, {y_train.shape = }\")\n",
    "print(f\"{X_test.shape = }, {y_test.shape = }\")"
   ]
  },
  {
   "cell_type": "code",
   "execution_count": 25,
   "id": "7ab6b09b",
   "metadata": {},
   "outputs": [
    {
     "name": "stdout",
     "output_type": "stream",
     "text": [
      "X_train.shape = (84, 1)\n",
      "X_test.shape = (22, 1)\n"
     ]
    }
   ],
   "source": [
    "X_train = X_train.reshape(len(X_train), 1)\n",
    "X_test = X_test.reshape(len(X_test), 1)\n",
    "print(f'{X_train.shape = }')\n",
    "print(f'{X_test.shape = }')"
   ]
  },
  {
   "cell_type": "code",
   "execution_count": 26,
   "id": "1c503dc9",
   "metadata": {},
   "outputs": [
    {
     "data": {
      "text/html": [
       "<style>#sk-container-id-1 {color: black;background-color: white;}#sk-container-id-1 pre{padding: 0;}#sk-container-id-1 div.sk-toggleable {background-color: white;}#sk-container-id-1 label.sk-toggleable__label {cursor: pointer;display: block;width: 100%;margin-bottom: 0;padding: 0.3em;box-sizing: border-box;text-align: center;}#sk-container-id-1 label.sk-toggleable__label-arrow:before {content: \"▸\";float: left;margin-right: 0.25em;color: #696969;}#sk-container-id-1 label.sk-toggleable__label-arrow:hover:before {color: black;}#sk-container-id-1 div.sk-estimator:hover label.sk-toggleable__label-arrow:before {color: black;}#sk-container-id-1 div.sk-toggleable__content {max-height: 0;max-width: 0;overflow: hidden;text-align: left;background-color: #f0f8ff;}#sk-container-id-1 div.sk-toggleable__content pre {margin: 0.2em;color: black;border-radius: 0.25em;background-color: #f0f8ff;}#sk-container-id-1 input.sk-toggleable__control:checked~div.sk-toggleable__content {max-height: 200px;max-width: 100%;overflow: auto;}#sk-container-id-1 input.sk-toggleable__control:checked~label.sk-toggleable__label-arrow:before {content: \"▾\";}#sk-container-id-1 div.sk-estimator input.sk-toggleable__control:checked~label.sk-toggleable__label {background-color: #d4ebff;}#sk-container-id-1 div.sk-label input.sk-toggleable__control:checked~label.sk-toggleable__label {background-color: #d4ebff;}#sk-container-id-1 input.sk-hidden--visually {border: 0;clip: rect(1px 1px 1px 1px);clip: rect(1px, 1px, 1px, 1px);height: 1px;margin: -1px;overflow: hidden;padding: 0;position: absolute;width: 1px;}#sk-container-id-1 div.sk-estimator {font-family: monospace;background-color: #f0f8ff;border: 1px dotted black;border-radius: 0.25em;box-sizing: border-box;margin-bottom: 0.5em;}#sk-container-id-1 div.sk-estimator:hover {background-color: #d4ebff;}#sk-container-id-1 div.sk-parallel-item::after {content: \"\";width: 100%;border-bottom: 1px solid gray;flex-grow: 1;}#sk-container-id-1 div.sk-label:hover label.sk-toggleable__label {background-color: #d4ebff;}#sk-container-id-1 div.sk-serial::before {content: \"\";position: absolute;border-left: 1px solid gray;box-sizing: border-box;top: 0;bottom: 0;left: 50%;z-index: 0;}#sk-container-id-1 div.sk-serial {display: flex;flex-direction: column;align-items: center;background-color: white;padding-right: 0.2em;padding-left: 0.2em;position: relative;}#sk-container-id-1 div.sk-item {position: relative;z-index: 1;}#sk-container-id-1 div.sk-parallel {display: flex;align-items: stretch;justify-content: center;background-color: white;position: relative;}#sk-container-id-1 div.sk-item::before, #sk-container-id-1 div.sk-parallel-item::before {content: \"\";position: absolute;border-left: 1px solid gray;box-sizing: border-box;top: 0;bottom: 0;left: 50%;z-index: -1;}#sk-container-id-1 div.sk-parallel-item {display: flex;flex-direction: column;z-index: 1;position: relative;background-color: white;}#sk-container-id-1 div.sk-parallel-item:first-child::after {align-self: flex-end;width: 50%;}#sk-container-id-1 div.sk-parallel-item:last-child::after {align-self: flex-start;width: 50%;}#sk-container-id-1 div.sk-parallel-item:only-child::after {width: 0;}#sk-container-id-1 div.sk-dashed-wrapped {border: 1px dashed gray;margin: 0 0.4em 0.5em 0.4em;box-sizing: border-box;padding-bottom: 0.4em;background-color: white;}#sk-container-id-1 div.sk-label label {font-family: monospace;font-weight: bold;display: inline-block;line-height: 1.2em;}#sk-container-id-1 div.sk-label-container {text-align: center;}#sk-container-id-1 div.sk-container {/* jupyter's `normalize.less` sets `[hidden] { display: none; }` but bootstrap.min.css set `[hidden] { display: none !important; }` so we also need the `!important` here to be able to override the default hidden behavior on the sphinx rendered scikit-learn.org. See: https://github.com/scikit-learn/scikit-learn/issues/21755 */display: inline-block !important;position: relative;}#sk-container-id-1 div.sk-text-repr-fallback {display: none;}</style><div id=\"sk-container-id-1\" class=\"sk-top-container\"><div class=\"sk-text-repr-fallback\"><pre>LinearRegression()</pre><b>In a Jupyter environment, please rerun this cell to show the HTML representation or trust the notebook. <br />On GitHub, the HTML representation is unable to render, please try loading this page with nbviewer.org.</b></div><div class=\"sk-container\" hidden><div class=\"sk-item\"><div class=\"sk-estimator sk-toggleable\"><input class=\"sk-toggleable__control sk-hidden--visually\" id=\"sk-estimator-id-1\" type=\"checkbox\" checked><label for=\"sk-estimator-id-1\" class=\"sk-toggleable__label sk-toggleable__label-arrow\">LinearRegression</label><div class=\"sk-toggleable__content\"><pre>LinearRegression()</pre></div></div></div></div></div>"
      ],
      "text/plain": [
       "LinearRegression()"
      ]
     },
     "execution_count": 26,
     "metadata": {},
     "output_type": "execute_result"
    }
   ],
   "source": [
    "from sklearn.linear_model import LinearRegression\n",
    "\n",
    "model = LinearRegression()\n",
    "model.fit(X_train, y_train)"
   ]
  },
  {
   "cell_type": "code",
   "execution_count": 29,
   "id": "0d9fb661",
   "metadata": {},
   "outputs": [
    {
     "name": "stdout",
     "output_type": "stream",
     "text": [
      "X_test\ty_test\ty_test_predicted\n",
      "------------------------------\n",
      "[1704.13]\t19.59\t22.6\n",
      "[215.71]\t2.84\t2.89\n",
      "[103.55]\t1.45\t1.4\n",
      "[1386.6]\t19.25\t18.39\n",
      "[1658.41]\t22.79\t21.99\n",
      "[1117.48]\t17.03\t14.83\n",
      "[540.37]\t6.87\t7.19\n",
      "[586.73]\t7.09\t7.8\n",
      "[1577.06]\t20.44\t20.91\n",
      "[224.27]\t2.95\t3.0\n",
      "[827.9]\t12.32\t10.99\n",
      "[747.45]\t9.95\t9.93\n",
      "[64.2]\t1.0\t0.88\n",
      "[1336.06]\t18.08\t17.72\n",
      "[352.02]\t4.36\t4.69\n",
      "[1100.47]\t15.97\t14.6\n",
      "[1158.57]\t17.11\t15.37\n",
      "[1359.12]\t14.6\t18.03\n",
      "[963.75]\t14.16\t12.79\n",
      "[778.54]\t8.93\t10.34\n",
      "[256.94]\t3.61\t3.43\n",
      "[1373.93]\t18.01\t18.22\n"
     ]
    }
   ],
   "source": [
    "y_test_predicted = model.predict(X_test)\n",
    "\n",
    "header = f\"X_test\\ty_test\\ty_test_predicted\"\n",
    "print(header, '\\n', '-'*len(header), sep='')\n",
    "for i in range(len(y_test)):\n",
    "    print(f\"{X_test[i]}\\t{y_test[i]}\\t{round(y_test_predicted[i], 2)}\")"
   ]
  },
  {
   "cell_type": "code",
   "execution_count": 31,
   "id": "633b9379",
   "metadata": {},
   "outputs": [
    {
     "data": {
      "text/plain": [
       "Text(0, 0.5, 'travel_time')"
      ]
     },
     "execution_count": 31,
     "metadata": {},
     "output_type": "execute_result"
    },
    {
     "data": {
      "image/png": "[encoded data removed]",
      "text/plain": [
       "<Figure size 640x480 with 1 Axes>"
      ]
     },
     "metadata": {},
     "output_type": "display_data"
    }
   ],
   "source": [
    "y_train_predicted = model.predict(X_train)\n",
    "\n",
    "plt.scatter(X_train, y_train, c='grey', s=15)\n",
    "plt.scatter(X_test, y_test, c='green')\n",
    "plt.plot(X_train, y_train_predicted)\n",
    "\n",
    "plt.xlabel('distance')\n",
    "plt.ylabel('travel_time')"
   ]
  },
  {
   "cell_type": "code",
   "execution_count": 32,
   "id": "1eb495bc",
   "metadata": {},
   "outputs": [
    {
     "name": "stdout",
     "output_type": "stream",
     "text": [
      "train_rmse = 1.1363686081901485, test_rmse = 1.3260535177267117\n"
     ]
    }
   ],
   "source": [
    "from sklearn.metrics import mean_squared_error as mse\n",
    "\n",
    "train_rmse = mse(y_train, y_train_predicted, squared=False)\n",
    "test_rmse = mse(y_test, y_test_predicted, squared=False)\n",
    "\n",
    "print(f'{train_rmse = }, {test_rmse = }')"
   ]
  },
  {
   "cell_type": "code",
   "execution_count": 33,
   "id": "65ade5de",
   "metadata": {},
   "outputs": [],
   "source": [
    "differences = y_test - y_test_predicted\n",
    "squared_diffs = differences**2"
   ]
  },
  {
   "cell_type": "code",
   "execution_count": 34,
   "id": "f886549d",
   "metadata": {},
   "outputs": [
    {
     "name": "stdout",
     "output_type": "stream",
     "text": [
      "y_test\ty_test_predicted  differences\tsquared_diffs\n",
      "--------------------------------------------------\n",
      "19.59\t22.6\t\t  -3.0061\t9.0368\n",
      "2.84\t2.9\t\t  -0.0464\t0.0022\n",
      "1.45\t1.4\t\t  0.0488\t0.0024\n",
      "19.25\t18.4\t\t  0.8586\t0.7372\n",
      "22.79\t22.0\t\t  0.7993\t0.6389\n",
      "17.03\t14.8\t\t  2.2023\t4.8502\n",
      "6.87\t7.2\t\t  -0.3156\t0.0996\n",
      "7.09\t7.8\t\t  -0.7095\t0.5033\n",
      "20.44\t20.9\t\t  -0.4735\t0.2242\n",
      "2.95\t3.0\t\t  -0.0497\t0.0025\n",
      "12.32\t11.0\t\t  1.3270\t1.7608\n",
      "9.95\t9.9\t\t  0.0223\t0.0005\n",
      "1.0\t0.9\t\t  0.1199\t0.0144\n",
      "18.08\t17.7\t\t  0.3579\t0.1281\n",
      "4.36\t4.7\t\t  -0.3314\t0.1098\n",
      "15.97\t14.6\t\t  1.3676\t1.8703\n",
      "17.11\t15.4\t\t  1.7382\t3.0214\n",
      "14.6\t18.0\t\t  -3.4275\t11.7476\n",
      "14.16\t12.8\t\t  1.3680\t1.8715\n",
      "8.93\t10.3\t\t  -1.4094\t1.9865\n",
      "3.61\t3.4\t\t  0.1776\t0.0316\n",
      "18.01\t18.2\t\t  -0.2136\t0.0456\n"
     ]
    }
   ],
   "source": [
    "header = f\"y_test\\ty_test_predicted  differences\\tsquared_diffs\"\n",
    "print(header, '\\n', '-'*len(header), sep='')\n",
    "for i in range(len(y_test)):\n",
    "    print(f\"{y_test[i]}\\t{y_test_predicted[i] :.1f}\", end='')\n",
    "    print(f\"\\t\\t  {differences[i] :.4f}\\t{squared_diffs[i] :.4f}\")"
   ]
  },
  {
   "cell_type": "code",
   "execution_count": 35,
   "id": "df88ee1f",
   "metadata": {},
   "outputs": [
    {
     "name": "stdout",
     "output_type": "stream",
     "text": [
      "1.3260535177267117\n"
     ]
    }
   ],
   "source": [
    "test_mse = np.mean((y_test - y_test_predicted) ** 2)\n",
    "test_rmse = np.sqrt(test_mse)\n",
    "print(test_rmse)"
   ]
  },
  {
   "cell_type": "code",
   "execution_count": 37,
   "id": "a1057c00",
   "metadata": {},
   "outputs": [
    {
     "data": {
      "text/html": [
       "<div>\n",
       "<style scoped>\n",
       "    .dataframe tbody tr th:only-of-type {\n",
       "        vertical-align: middle;\n",
       "    }\n",
       "\n",
       "    .dataframe tbody tr th {\n",
       "        vertical-align: top;\n",
       "    }\n",
       "\n",
       "    .dataframe thead th {\n",
       "        text-align: right;\n",
       "    }\n",
       "</style>\n",
       "<table border=\"1\" class=\"dataframe\">\n",
       "  <thead>\n",
       "    <tr style=\"text-align: right;\">\n",
       "      <th></th>\n",
       "      <th>distance</th>\n",
       "    </tr>\n",
       "  </thead>\n",
       "  <tbody>\n",
       "    <tr>\n",
       "      <th>0</th>\n",
       "      <td>64.20</td>\n",
       "    </tr>\n",
       "    <tr>\n",
       "      <th>1</th>\n",
       "      <td>87.57</td>\n",
       "    </tr>\n",
       "    <tr>\n",
       "      <th>2</th>\n",
       "      <td>123.50</td>\n",
       "    </tr>\n",
       "    <tr>\n",
       "      <th>3</th>\n",
       "      <td>156.52</td>\n",
       "    </tr>\n",
       "    <tr>\n",
       "      <th>4</th>\n",
       "      <td>178.96</td>\n",
       "    </tr>\n",
       "  </tbody>\n",
       "</table>\n",
       "</div>"
      ],
      "text/plain": [
       "   distance\n",
       "0     64.20\n",
       "1     87.57\n",
       "2    123.50\n",
       "3    156.52\n",
       "4    178.96"
      ]
     },
     "execution_count": 37,
     "metadata": {},
     "output_type": "execute_result"
    }
   ],
   "source": [
    "distance_data = pd.read_csv('travel_time_test.csv')\n",
    "distance_data.head()"
   ]
  },
  {
   "cell_type": "code",
   "execution_count": 38,
   "id": "4a693286",
   "metadata": {},
   "outputs": [
    {
     "data": {
      "text/plain": [
       "array([0.8800933 , 1.18955988, 1.66534653, 2.10259884, 2.39975032])"
      ]
     },
     "execution_count": 38,
     "metadata": {},
     "output_type": "execute_result"
    }
   ],
   "source": [
    "X = distance_data.to_numpy()\n",
    "y = model.predict(X)\n",
    "y[:5] "
   ]
  },
  {
   "cell_type": "code",
   "execution_count": 39,
   "id": "38af47f0",
   "metadata": {},
   "outputs": [],
   "source": [
    "np.savetxt('Гнусов-М.Е-travel_time_predicts.csv', y, \n",
    "           header='travel_time', \n",
    "           delimiter=',', \n",
    "           fmt='%.2f', \n",
    "           comments='')"
   ]
  },
  {
   "cell_type": "code",
   "execution_count": 41,
   "id": "02bc309c",
   "metadata": {},
   "outputs": [
    {
     "name": "stdout",
     "output_type": "stream",
     "text": [
      "a = 0.029954050707852176, b = 0.01324204439626702\n"
     ]
    }
   ],
   "source": [
    "a = model.intercept_\n",
    "b = model.coef_ #или b = model.coef_[0]\n",
    "print(f'{a = }, {b = }') "
   ]
  }
 ],
 "metadata": {
  "kernelspec": {
   "display_name": "Python 3 (ipykernel)",
   "language": "python",
   "name": "python3"
  },
  "language_info": {
   "codemirror_mode": {
    "name": "ipython",
    "version": 3
   },
   "file_extension": ".py",
   "mimetype": "text/x-python",
   "name": "python",
   "nbconvert_exporter": "python",
   "pygments_lexer": "ipython3",
   "version": "3.10.4"
  }
 },
 "nbformat": 4,
 "nbformat_minor": 5
}
